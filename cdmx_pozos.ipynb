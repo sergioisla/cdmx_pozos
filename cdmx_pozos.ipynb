{
 "cells": [
  {
   "cell_type": "code",
   "execution_count": 1,
   "id": "35f0bf72",
   "metadata": {},
   "outputs": [],
   "source": [
    "import pandas as pd\n",
    "import matplotlib.pyplot as plt"
   ]
  },
  {
   "cell_type": "code",
   "execution_count": 2,
   "id": "8ef5d66f",
   "metadata": {},
   "outputs": [],
   "source": [
    "#show all the columns\n",
    "pd.set_option('display.max_columns', None)"
   ]
  },
  {
   "cell_type": "code",
   "execution_count": 3,
   "id": "29f1c2c3",
   "metadata": {},
   "outputs": [],
   "source": [
    "df = pd.read_csv('ANEXOS_SUBTERRÁNEOS.csv')"
   ]
  },
  {
   "cell_type": "code",
   "execution_count": 4,
   "id": "2106e5a2",
   "metadata": {},
   "outputs": [
    {
     "data": {
      "text/html": [
       "<div>\n",
       "<style scoped>\n",
       "    .dataframe tbody tr th:only-of-type {\n",
       "        vertical-align: middle;\n",
       "    }\n",
       "\n",
       "    .dataframe tbody tr th {\n",
       "        vertical-align: top;\n",
       "    }\n",
       "\n",
       "    .dataframe thead th {\n",
       "        text-align: right;\n",
       "    }\n",
       "</style>\n",
       "<table border=\"1\" class=\"dataframe\">\n",
       "  <thead>\n",
       "    <tr style=\"text-align: right;\">\n",
       "      <th></th>\n",
       "      <th>TÍTULO</th>\n",
       "      <th>CLAVE DE REGIÓN HIDROLÓGICA</th>\n",
       "      <th>NOMBRE DE REGIÓN HIDROLÓGICA</th>\n",
       "      <th>ESTADO</th>\n",
       "      <th>NOMBRE DE ESTADO</th>\n",
       "      <th>CLAVE DE MUNICIPIO</th>\n",
       "      <th>NOMBRE DE MUNICIPIO</th>\n",
       "      <th>CLAVE DE CUENCA HIDROLÓGICA</th>\n",
       "      <th>NOMBRE DE CUENCA HIDROLÓGICA</th>\n",
       "      <th>VOLUMEN ANUAL EN m3</th>\n",
       "      <th>GRADOS LATITUD</th>\n",
       "      <th>MINUTOS LATITUD</th>\n",
       "      <th>SEGUNDOS LATITUD</th>\n",
       "      <th>GRADOS LONGITUD</th>\n",
       "      <th>MINUTOS LONGITUD</th>\n",
       "      <th>SEGUNDOS LONGITUD</th>\n",
       "      <th>CLAVE DE ACUÍFERO QUE MENCIONA EL TÍTULO</th>\n",
       "      <th>ACUÍFERO QUE MENCIONA EL TÍTULO</th>\n",
       "      <th>NÚMERO DE ANEXO</th>\n",
       "      <th>CLAVE DE ACUÍFERO HOMOLOGADO</th>\n",
       "      <th>NOMBRE DE ACUÍFERO HOMOLOGADO</th>\n",
       "    </tr>\n",
       "  </thead>\n",
       "  <tbody>\n",
       "    <tr>\n",
       "      <th>0</th>\n",
       "      <td>810052</td>\n",
       "      <td>12</td>\n",
       "      <td>LERMA-SANTIAGO</td>\n",
       "      <td>14</td>\n",
       "      <td>JALISCO</td>\n",
       "      <td>35</td>\n",
       "      <td>ENCARNACIÓN DE DÍAZ</td>\n",
       "      <td>196</td>\n",
       "      <td>RÍO ENCARNACIÓN</td>\n",
       "      <td>23190.0</td>\n",
       "      <td>21</td>\n",
       "      <td>34</td>\n",
       "      <td>53.0005</td>\n",
       "      <td>102</td>\n",
       "      <td>15</td>\n",
       "      <td>15.0018</td>\n",
       "      <td>0.0</td>\n",
       "      <td>SIN DATO</td>\n",
       "      <td>1</td>\n",
       "      <td>1422.0</td>\n",
       "      <td>ENCARNACIÓN</td>\n",
       "    </tr>\n",
       "    <tr>\n",
       "      <th>1</th>\n",
       "      <td>810055</td>\n",
       "      <td>12</td>\n",
       "      <td>LERMA-SANTIAGO</td>\n",
       "      <td>14</td>\n",
       "      <td>JALISCO</td>\n",
       "      <td>93</td>\n",
       "      <td>TEPATITLÁN DE MORELOS</td>\n",
       "      <td>199</td>\n",
       "      <td>RÍO DEL VALLE</td>\n",
       "      <td>100000.0</td>\n",
       "      <td>20</td>\n",
       "      <td>50</td>\n",
       "      <td>46.0556</td>\n",
       "      <td>102</td>\n",
       "      <td>34</td>\n",
       "      <td>30.0630</td>\n",
       "      <td>0.0</td>\n",
       "      <td>SIN DATO</td>\n",
       "      <td>1</td>\n",
       "      <td>1416.0</td>\n",
       "      <td>VALLE DE GUADALUPE</td>\n",
       "    </tr>\n",
       "  </tbody>\n",
       "</table>\n",
       "</div>"
      ],
      "text/plain": [
       "   TÍTULO  CLAVE DE REGIÓN HIDROLÓGICA NOMBRE DE REGIÓN HIDROLÓGICA  ESTADO  \\\n",
       "0  810052                           12               LERMA-SANTIAGO      14   \n",
       "1  810055                           12               LERMA-SANTIAGO      14   \n",
       "\n",
       "  NOMBRE DE ESTADO  CLAVE DE MUNICIPIO    NOMBRE DE MUNICIPIO  \\\n",
       "0          JALISCO                  35    ENCARNACIÓN DE DÍAZ   \n",
       "1          JALISCO                  93  TEPATITLÁN DE MORELOS   \n",
       "\n",
       "   CLAVE DE CUENCA HIDROLÓGICA NOMBRE DE CUENCA HIDROLÓGICA  \\\n",
       "0                          196              RÍO ENCARNACIÓN   \n",
       "1                          199                RÍO DEL VALLE   \n",
       "\n",
       "   VOLUMEN ANUAL EN m3  GRADOS LATITUD  MINUTOS LATITUD  SEGUNDOS LATITUD  \\\n",
       "0              23190.0              21               34           53.0005   \n",
       "1             100000.0              20               50           46.0556   \n",
       "\n",
       "   GRADOS LONGITUD  MINUTOS LONGITUD  SEGUNDOS LONGITUD  \\\n",
       "0              102                15            15.0018   \n",
       "1              102                34            30.0630   \n",
       "\n",
       "   CLAVE DE ACUÍFERO QUE MENCIONA EL TÍTULO ACUÍFERO QUE MENCIONA EL TÍTULO  \\\n",
       "0                                        0.0                        SIN DATO   \n",
       "1                                        0.0                        SIN DATO   \n",
       "\n",
       "   NÚMERO DE ANEXO  CLAVE DE ACUÍFERO HOMOLOGADO  \\\n",
       "0                1                         1422.0   \n",
       "1                1                         1416.0   \n",
       "\n",
       "  NOMBRE DE ACUÍFERO HOMOLOGADO  \n",
       "0                   ENCARNACIÓN  \n",
       "1            VALLE DE GUADALUPE  "
      ]
     },
     "execution_count": 4,
     "metadata": {},
     "output_type": "execute_result"
    }
   ],
   "source": [
    "df.head(2)"
   ]
  },
  {
   "cell_type": "code",
   "execution_count": 5,
   "id": "c7143694",
   "metadata": {
    "scrolled": true
   },
   "outputs": [
    {
     "data": {
      "text/plain": [
       "array(['JALISCO', 'SAN LUIS POTOSÍ', 'DURANGO', 'YUCATÁN',\n",
       "       'VERACRUZ DE IGNACIO DE LA LLAVE', 'MICHOACÁN DE OCAMPO',\n",
       "       'TABASCO', 'CAMPECHE', 'PUEBLA', 'ZACATECAS', 'AGUASCALIENTES',\n",
       "       'CHIAPAS', 'NUEVO LEÓN', 'MORELOS', 'SINALOA', 'SONORA',\n",
       "       'QUERÉTARO', 'CHIHUAHUA', 'COLIMA', 'GUANAJUATO',\n",
       "       'COAHUILA DE ZARAGOZA', 'TAMAULIPAS', 'MÉXICO', 'NAYARIT',\n",
       "       'BAJA CALIFORNIA', 'GUERRERO', 'HIDALGO', 'BAJA CALIFORNIA SUR',\n",
       "       'OAXACA', 'QUINTANA ROO', 'TLAXCALA', 'CIUDAD DE MÉXICO'],\n",
       "      dtype=object)"
      ]
     },
     "execution_count": 5,
     "metadata": {},
     "output_type": "execute_result"
    }
   ],
   "source": [
    "# exploring the spelling of the state's names\n",
    "df['NOMBRE DE ESTADO'].unique()"
   ]
  },
  {
   "cell_type": "code",
   "execution_count": 6,
   "id": "c65d3430",
   "metadata": {},
   "outputs": [],
   "source": [
    "# filter rows for 'CIUDAD DE MÉXICO' from 'NOMBRE DE ESTADO' column\n",
    "df_cdmx = df[df['NOMBRE DE ESTADO'] == 'CIUDAD DE MÉXICO'] "
   ]
  },
  {
   "cell_type": "code",
   "execution_count": 7,
   "id": "95b4642f",
   "metadata": {},
   "outputs": [],
   "source": [
    "df_concesiones = pd.read_csv('CONCESIONES.csv')"
   ]
  },
  {
   "cell_type": "code",
   "execution_count": 8,
   "id": "8a91ae0c",
   "metadata": {},
   "outputs": [
    {
     "data": {
      "text/html": [
       "<div>\n",
       "<style scoped>\n",
       "    .dataframe tbody tr th:only-of-type {\n",
       "        vertical-align: middle;\n",
       "    }\n",
       "\n",
       "    .dataframe tbody tr th {\n",
       "        vertical-align: top;\n",
       "    }\n",
       "\n",
       "    .dataframe thead th {\n",
       "        text-align: right;\n",
       "    }\n",
       "</style>\n",
       "<table border=\"1\" class=\"dataframe\">\n",
       "  <thead>\n",
       "    <tr style=\"text-align: right;\">\n",
       "      <th></th>\n",
       "      <th>TÍTULO</th>\n",
       "      <th>USO QUE AMPARA EL TÍTULO</th>\n",
       "      <th>TITULAR</th>\n",
       "      <th>VOLUMEN DE EXTRACCIÓN ANUAL DE AGUAS NACIONALES QUE AMPARA EL TÍTULO EN m3</th>\n",
       "      <th>APROVECHAMIENTOS SUPERFICIALES QUE AMPARA EL TÍTULO</th>\n",
       "      <th>VOLUMEN DE EXTRACCIÓN ANUAL DE APROVECHAMIENTOS SUPERFICIALES EN m3</th>\n",
       "      <th>APROVECHAMIENTOS SUBTERRÁNEOS QUE AMPARA EL TÍTULO</th>\n",
       "      <th>VOLUMEN DE EXTRACCIÓN ANUAL DE APROVECHAMIENTOS SUBTERRÁNEOS EN m3</th>\n",
       "      <th>PUNTOS DE DESCARGA QUE AMPARA EL TÍTULO</th>\n",
       "      <th>VOLUMEN DE DESCARGA DIARIO EN m3</th>\n",
       "      <th>ZONAS FEDERALES QUE AMPARA EL TÍTULO</th>\n",
       "      <th>SUPERFICIE EN m2</th>\n",
       "      <th>FECHA DE REGISTRO</th>\n",
       "      <th>AUTORIDAD QUE EMITE EL ACTO</th>\n",
       "    </tr>\n",
       "  </thead>\n",
       "  <tbody>\n",
       "    <tr>\n",
       "      <th>0</th>\n",
       "      <td>810052</td>\n",
       "      <td>DIFERENTES USOS</td>\n",
       "      <td>VICTOR DE SANTOS GARCIA, MA. ELENA GONZALEZ RO...</td>\n",
       "      <td>23190.0</td>\n",
       "      <td>0</td>\n",
       "      <td>0.0</td>\n",
       "      <td>1</td>\n",
       "      <td>23190.0</td>\n",
       "      <td>0</td>\n",
       "      <td>0.0</td>\n",
       "      <td>0</td>\n",
       "      <td>0.0</td>\n",
       "      <td>2019-08-06</td>\n",
       "      <td>ORGANISMO DE CUENCA LERMA SANTIAGO PACIFICO</td>\n",
       "    </tr>\n",
       "    <tr>\n",
       "      <th>1</th>\n",
       "      <td>810055</td>\n",
       "      <td>AGRÍCOLA</td>\n",
       "      <td>ANTONIO MARTIN GOMEZ, MARIA GUADALUPE GOMEZ GOMEZ</td>\n",
       "      <td>100000.0</td>\n",
       "      <td>0</td>\n",
       "      <td>0.0</td>\n",
       "      <td>1</td>\n",
       "      <td>100000.0</td>\n",
       "      <td>0</td>\n",
       "      <td>0.0</td>\n",
       "      <td>0</td>\n",
       "      <td>0.0</td>\n",
       "      <td>2020-05-29</td>\n",
       "      <td>ORGANISMO DE CUENCA LERMA SANTIAGO PACIFICO</td>\n",
       "    </tr>\n",
       "  </tbody>\n",
       "</table>\n",
       "</div>"
      ],
      "text/plain": [
       "  TÍTULO USO QUE AMPARA EL TÍTULO  \\\n",
       "0  810052          DIFERENTES USOS   \n",
       "1  810055                 AGRÍCOLA   \n",
       "\n",
       "                                             TITULAR  \\\n",
       "0  VICTOR DE SANTOS GARCIA, MA. ELENA GONZALEZ RO...   \n",
       "1  ANTONIO MARTIN GOMEZ, MARIA GUADALUPE GOMEZ GOMEZ   \n",
       "\n",
       "   VOLUMEN DE EXTRACCIÓN ANUAL DE AGUAS NACIONALES QUE AMPARA EL TÍTULO EN m3  \\\n",
       "0                                            23190.0                            \n",
       "1                                           100000.0                            \n",
       "\n",
       "   APROVECHAMIENTOS SUPERFICIALES QUE AMPARA EL TÍTULO  \\\n",
       "0                                                  0     \n",
       "1                                                  0     \n",
       "\n",
       "   VOLUMEN DE EXTRACCIÓN ANUAL DE APROVECHAMIENTOS SUPERFICIALES EN m3  \\\n",
       "0                                                0.0                     \n",
       "1                                                0.0                     \n",
       "\n",
       "   APROVECHAMIENTOS SUBTERRÁNEOS QUE AMPARA EL TÍTULO  \\\n",
       "0                                                  1    \n",
       "1                                                  1    \n",
       "\n",
       "   VOLUMEN DE EXTRACCIÓN ANUAL DE APROVECHAMIENTOS SUBTERRÁNEOS EN m3  \\\n",
       "0                                            23190.0                    \n",
       "1                                           100000.0                    \n",
       "\n",
       "   PUNTOS DE DESCARGA QUE AMPARA EL TÍTULO  VOLUMEN DE DESCARGA DIARIO EN m3  \\\n",
       "0                                        0                               0.0   \n",
       "1                                        0                               0.0   \n",
       "\n",
       "   ZONAS FEDERALES QUE AMPARA EL TÍTULO  SUPERFICIE EN m2 FECHA DE REGISTRO  \\\n",
       "0                                     0               0.0        2019-08-06   \n",
       "1                                     0               0.0        2020-05-29   \n",
       "\n",
       "                   AUTORIDAD QUE EMITE EL ACTO  \n",
       "0  ORGANISMO DE CUENCA LERMA SANTIAGO PACIFICO  \n",
       "1  ORGANISMO DE CUENCA LERMA SANTIAGO PACIFICO  "
      ]
     },
     "execution_count": 8,
     "metadata": {},
     "output_type": "execute_result"
    }
   ],
   "source": [
    "df_concesiones.head(2)"
   ]
  },
  {
   "cell_type": "code",
   "execution_count": 9,
   "id": "a32314bf",
   "metadata": {},
   "outputs": [],
   "source": [
    "# correct column name in order to marge with 'df_cdmx'\n",
    "df_concesiones.rename(columns={\"TÍTULO\": \"TÍTULO\"}, inplace=True)"
   ]
  },
  {
   "cell_type": "code",
   "execution_count": 10,
   "id": "316916d3",
   "metadata": {},
   "outputs": [],
   "source": [
    "df_cdmx_concesns = pd.merge(df_cdmx, df_concesiones,how='left', on='TÍTULO')"
   ]
  },
  {
   "cell_type": "code",
   "execution_count": 11,
   "id": "8a572e02",
   "metadata": {},
   "outputs": [
    {
     "data": {
      "text/html": [
       "<div>\n",
       "<style scoped>\n",
       "    .dataframe tbody tr th:only-of-type {\n",
       "        vertical-align: middle;\n",
       "    }\n",
       "\n",
       "    .dataframe tbody tr th {\n",
       "        vertical-align: top;\n",
       "    }\n",
       "\n",
       "    .dataframe thead th {\n",
       "        text-align: right;\n",
       "    }\n",
       "</style>\n",
       "<table border=\"1\" class=\"dataframe\">\n",
       "  <thead>\n",
       "    <tr style=\"text-align: right;\">\n",
       "      <th></th>\n",
       "      <th>TÍTULO</th>\n",
       "      <th>CLAVE DE REGIÓN HIDROLÓGICA</th>\n",
       "      <th>NOMBRE DE REGIÓN HIDROLÓGICA</th>\n",
       "      <th>ESTADO</th>\n",
       "      <th>NOMBRE DE ESTADO</th>\n",
       "      <th>CLAVE DE MUNICIPIO</th>\n",
       "      <th>NOMBRE DE MUNICIPIO</th>\n",
       "      <th>CLAVE DE CUENCA HIDROLÓGICA</th>\n",
       "      <th>NOMBRE DE CUENCA HIDROLÓGICA</th>\n",
       "      <th>VOLUMEN ANUAL EN m3</th>\n",
       "      <th>GRADOS LATITUD</th>\n",
       "      <th>MINUTOS LATITUD</th>\n",
       "      <th>SEGUNDOS LATITUD</th>\n",
       "      <th>GRADOS LONGITUD</th>\n",
       "      <th>MINUTOS LONGITUD</th>\n",
       "      <th>SEGUNDOS LONGITUD</th>\n",
       "      <th>CLAVE DE ACUÍFERO QUE MENCIONA EL TÍTULO</th>\n",
       "      <th>ACUÍFERO QUE MENCIONA EL TÍTULO</th>\n",
       "      <th>NÚMERO DE ANEXO</th>\n",
       "      <th>CLAVE DE ACUÍFERO HOMOLOGADO</th>\n",
       "      <th>NOMBRE DE ACUÍFERO HOMOLOGADO</th>\n",
       "      <th>USO QUE AMPARA EL TÍTULO</th>\n",
       "      <th>TITULAR</th>\n",
       "      <th>VOLUMEN DE EXTRACCIÓN ANUAL DE AGUAS NACIONALES QUE AMPARA EL TÍTULO EN m3</th>\n",
       "      <th>APROVECHAMIENTOS SUPERFICIALES QUE AMPARA EL TÍTULO</th>\n",
       "      <th>VOLUMEN DE EXTRACCIÓN ANUAL DE APROVECHAMIENTOS SUPERFICIALES EN m3</th>\n",
       "      <th>APROVECHAMIENTOS SUBTERRÁNEOS QUE AMPARA EL TÍTULO</th>\n",
       "      <th>VOLUMEN DE EXTRACCIÓN ANUAL DE APROVECHAMIENTOS SUBTERRÁNEOS EN m3</th>\n",
       "      <th>PUNTOS DE DESCARGA QUE AMPARA EL TÍTULO</th>\n",
       "      <th>VOLUMEN DE DESCARGA DIARIO EN m3</th>\n",
       "      <th>ZONAS FEDERALES QUE AMPARA EL TÍTULO</th>\n",
       "      <th>SUPERFICIE EN m2</th>\n",
       "      <th>FECHA DE REGISTRO</th>\n",
       "      <th>AUTORIDAD QUE EMITE EL ACTO</th>\n",
       "    </tr>\n",
       "  </thead>\n",
       "  <tbody>\n",
       "    <tr>\n",
       "      <th>0</th>\n",
       "      <td>811078</td>\n",
       "      <td>26</td>\n",
       "      <td>PÁNUCO</td>\n",
       "      <td>9</td>\n",
       "      <td>CIUDAD DE MÉXICO</td>\n",
       "      <td>3</td>\n",
       "      <td>COYOACÁN</td>\n",
       "      <td>550</td>\n",
       "      <td>XOCHIMILCO</td>\n",
       "      <td>450000.0</td>\n",
       "      <td>19</td>\n",
       "      <td>18</td>\n",
       "      <td>14.2096</td>\n",
       "      <td>99</td>\n",
       "      <td>9</td>\n",
       "      <td>18.0193</td>\n",
       "      <td>0.0</td>\n",
       "      <td>SIN DATO</td>\n",
       "      <td>1</td>\n",
       "      <td>901.0</td>\n",
       "      <td>ZONA METROPOLITANA DE LA CD. DE MÉXICO</td>\n",
       "      <td>SERVICIOS</td>\n",
       "      <td>TELEVISA, S.A. DE C.V.</td>\n",
       "      <td>450000.0</td>\n",
       "      <td>0</td>\n",
       "      <td>0.0</td>\n",
       "      <td>1</td>\n",
       "      <td>450000.0</td>\n",
       "      <td>0</td>\n",
       "      <td>0.0</td>\n",
       "      <td>0</td>\n",
       "      <td>0.0</td>\n",
       "      <td>2019-06-27</td>\n",
       "      <td>ORGANISMO DE CUENCA AGUAS DEL VALLE DE MEXICO</td>\n",
       "    </tr>\n",
       "    <tr>\n",
       "      <th>1</th>\n",
       "      <td>812118</td>\n",
       "      <td>26</td>\n",
       "      <td>PÁNUCO</td>\n",
       "      <td>9</td>\n",
       "      <td>CIUDAD DE MÉXICO</td>\n",
       "      <td>10</td>\n",
       "      <td>ÁLVARO OBREGÓN</td>\n",
       "      <td>555</td>\n",
       "      <td>CIUDAD DE MÉXICO</td>\n",
       "      <td>200000.0</td>\n",
       "      <td>19</td>\n",
       "      <td>22</td>\n",
       "      <td>48.0182</td>\n",
       "      <td>99</td>\n",
       "      <td>15</td>\n",
       "      <td>9.0144</td>\n",
       "      <td>0.0</td>\n",
       "      <td>SIN DATO</td>\n",
       "      <td>1</td>\n",
       "      <td>901.0</td>\n",
       "      <td>ZONA METROPOLITANA DE LA CD. DE MÉXICO</td>\n",
       "      <td>SERVICIOS</td>\n",
       "      <td>CAPRICHO HABITACIONAL, S.A. DE C.V.</td>\n",
       "      <td>765000.0</td>\n",
       "      <td>0</td>\n",
       "      <td>0.0</td>\n",
       "      <td>2</td>\n",
       "      <td>765000.0</td>\n",
       "      <td>0</td>\n",
       "      <td>0.0</td>\n",
       "      <td>0</td>\n",
       "      <td>0.0</td>\n",
       "      <td>2022-12-12</td>\n",
       "      <td>ORGANISMO DE CUENCA AGUAS DEL VALLE DE MEXICO</td>\n",
       "    </tr>\n",
       "  </tbody>\n",
       "</table>\n",
       "</div>"
      ],
      "text/plain": [
       "   TÍTULO  CLAVE DE REGIÓN HIDROLÓGICA NOMBRE DE REGIÓN HIDROLÓGICA  ESTADO  \\\n",
       "0  811078                           26                       PÁNUCO       9   \n",
       "1  812118                           26                       PÁNUCO       9   \n",
       "\n",
       "   NOMBRE DE ESTADO  CLAVE DE MUNICIPIO NOMBRE DE MUNICIPIO  \\\n",
       "0  CIUDAD DE MÉXICO                   3            COYOACÁN   \n",
       "1  CIUDAD DE MÉXICO                  10      ÁLVARO OBREGÓN   \n",
       "\n",
       "   CLAVE DE CUENCA HIDROLÓGICA NOMBRE DE CUENCA HIDROLÓGICA  \\\n",
       "0                          550                   XOCHIMILCO   \n",
       "1                          555             CIUDAD DE MÉXICO   \n",
       "\n",
       "   VOLUMEN ANUAL EN m3  GRADOS LATITUD  MINUTOS LATITUD  SEGUNDOS LATITUD  \\\n",
       "0             450000.0              19               18           14.2096   \n",
       "1             200000.0              19               22           48.0182   \n",
       "\n",
       "   GRADOS LONGITUD  MINUTOS LONGITUD  SEGUNDOS LONGITUD  \\\n",
       "0               99                 9            18.0193   \n",
       "1               99                15             9.0144   \n",
       "\n",
       "   CLAVE DE ACUÍFERO QUE MENCIONA EL TÍTULO ACUÍFERO QUE MENCIONA EL TÍTULO  \\\n",
       "0                                        0.0                        SIN DATO   \n",
       "1                                        0.0                        SIN DATO   \n",
       "\n",
       "   NÚMERO DE ANEXO  CLAVE DE ACUÍFERO HOMOLOGADO  \\\n",
       "0                1                          901.0   \n",
       "1                1                          901.0   \n",
       "\n",
       "            NOMBRE DE ACUÍFERO HOMOLOGADO USO QUE AMPARA EL TÍTULO  \\\n",
       "0  ZONA METROPOLITANA DE LA CD. DE MÉXICO                SERVICIOS   \n",
       "1  ZONA METROPOLITANA DE LA CD. DE MÉXICO                SERVICIOS   \n",
       "\n",
       "                               TITULAR  \\\n",
       "0               TELEVISA, S.A. DE C.V.   \n",
       "1  CAPRICHO HABITACIONAL, S.A. DE C.V.   \n",
       "\n",
       "   VOLUMEN DE EXTRACCIÓN ANUAL DE AGUAS NACIONALES QUE AMPARA EL TÍTULO EN m3  \\\n",
       "0                                           450000.0                            \n",
       "1                                           765000.0                            \n",
       "\n",
       "   APROVECHAMIENTOS SUPERFICIALES QUE AMPARA EL TÍTULO  \\\n",
       "0                                                  0     \n",
       "1                                                  0     \n",
       "\n",
       "   VOLUMEN DE EXTRACCIÓN ANUAL DE APROVECHAMIENTOS SUPERFICIALES EN m3  \\\n",
       "0                                                0.0                     \n",
       "1                                                0.0                     \n",
       "\n",
       "   APROVECHAMIENTOS SUBTERRÁNEOS QUE AMPARA EL TÍTULO  \\\n",
       "0                                                  1    \n",
       "1                                                  2    \n",
       "\n",
       "   VOLUMEN DE EXTRACCIÓN ANUAL DE APROVECHAMIENTOS SUBTERRÁNEOS EN m3  \\\n",
       "0                                           450000.0                    \n",
       "1                                           765000.0                    \n",
       "\n",
       "   PUNTOS DE DESCARGA QUE AMPARA EL TÍTULO  VOLUMEN DE DESCARGA DIARIO EN m3  \\\n",
       "0                                        0                               0.0   \n",
       "1                                        0                               0.0   \n",
       "\n",
       "   ZONAS FEDERALES QUE AMPARA EL TÍTULO  SUPERFICIE EN m2 FECHA DE REGISTRO  \\\n",
       "0                                     0               0.0        2019-06-27   \n",
       "1                                     0               0.0        2022-12-12   \n",
       "\n",
       "                     AUTORIDAD QUE EMITE EL ACTO  \n",
       "0  ORGANISMO DE CUENCA AGUAS DEL VALLE DE MEXICO  \n",
       "1  ORGANISMO DE CUENCA AGUAS DEL VALLE DE MEXICO  "
      ]
     },
     "execution_count": 11,
     "metadata": {},
     "output_type": "execute_result"
    }
   ],
   "source": [
    "df_cdmx_concesns.head(2)"
   ]
  },
  {
   "cell_type": "code",
   "execution_count": 12,
   "id": "3168103d",
   "metadata": {},
   "outputs": [],
   "source": [
    "# convert coordinates from DMS (degree, minute, second) to decimal degrees\n",
    "\n",
    "df_cdmx_concesns[\"lat_decimal\"] = df_cdmx_concesns[[\"GRADOS LATITUD\",\"MINUTOS LATITUD\",\"SEGUNDOS LATITUD\"]].apply(lambda row: row.values[0] + row.values[1]/60 + row.values[2]/3600, axis=1)\n",
    "df_cdmx_concesns[\"lon_decimal\"] = df_cdmx_concesns[[\"GRADOS LONGITUD\",\"MINUTOS LONGITUD\",\"SEGUNDOS LONGITUD\"]].apply(lambda row: row.values[0] + row.values[1]/60 + row.values[2]/3600, axis=1)"
   ]
  },
  {
   "cell_type": "code",
   "execution_count": 13,
   "id": "aa650c6c",
   "metadata": {},
   "outputs": [
    {
     "data": {
      "text/html": [
       "<div>\n",
       "<style scoped>\n",
       "    .dataframe tbody tr th:only-of-type {\n",
       "        vertical-align: middle;\n",
       "    }\n",
       "\n",
       "    .dataframe tbody tr th {\n",
       "        vertical-align: top;\n",
       "    }\n",
       "\n",
       "    .dataframe thead th {\n",
       "        text-align: right;\n",
       "    }\n",
       "</style>\n",
       "<table border=\"1\" class=\"dataframe\">\n",
       "  <thead>\n",
       "    <tr style=\"text-align: right;\">\n",
       "      <th></th>\n",
       "      <th>TÍTULO</th>\n",
       "      <th>CLAVE DE REGIÓN HIDROLÓGICA</th>\n",
       "      <th>NOMBRE DE REGIÓN HIDROLÓGICA</th>\n",
       "      <th>ESTADO</th>\n",
       "      <th>NOMBRE DE ESTADO</th>\n",
       "      <th>CLAVE DE MUNICIPIO</th>\n",
       "      <th>NOMBRE DE MUNICIPIO</th>\n",
       "      <th>CLAVE DE CUENCA HIDROLÓGICA</th>\n",
       "      <th>NOMBRE DE CUENCA HIDROLÓGICA</th>\n",
       "      <th>VOLUMEN ANUAL EN m3</th>\n",
       "      <th>GRADOS LATITUD</th>\n",
       "      <th>MINUTOS LATITUD</th>\n",
       "      <th>SEGUNDOS LATITUD</th>\n",
       "      <th>GRADOS LONGITUD</th>\n",
       "      <th>MINUTOS LONGITUD</th>\n",
       "      <th>SEGUNDOS LONGITUD</th>\n",
       "      <th>CLAVE DE ACUÍFERO QUE MENCIONA EL TÍTULO</th>\n",
       "      <th>ACUÍFERO QUE MENCIONA EL TÍTULO</th>\n",
       "      <th>NÚMERO DE ANEXO</th>\n",
       "      <th>CLAVE DE ACUÍFERO HOMOLOGADO</th>\n",
       "      <th>NOMBRE DE ACUÍFERO HOMOLOGADO</th>\n",
       "      <th>USO QUE AMPARA EL TÍTULO</th>\n",
       "      <th>TITULAR</th>\n",
       "      <th>VOLUMEN DE EXTRACCIÓN ANUAL DE AGUAS NACIONALES QUE AMPARA EL TÍTULO EN m3</th>\n",
       "      <th>APROVECHAMIENTOS SUPERFICIALES QUE AMPARA EL TÍTULO</th>\n",
       "      <th>VOLUMEN DE EXTRACCIÓN ANUAL DE APROVECHAMIENTOS SUPERFICIALES EN m3</th>\n",
       "      <th>APROVECHAMIENTOS SUBTERRÁNEOS QUE AMPARA EL TÍTULO</th>\n",
       "      <th>VOLUMEN DE EXTRACCIÓN ANUAL DE APROVECHAMIENTOS SUBTERRÁNEOS EN m3</th>\n",
       "      <th>PUNTOS DE DESCARGA QUE AMPARA EL TÍTULO</th>\n",
       "      <th>VOLUMEN DE DESCARGA DIARIO EN m3</th>\n",
       "      <th>ZONAS FEDERALES QUE AMPARA EL TÍTULO</th>\n",
       "      <th>SUPERFICIE EN m2</th>\n",
       "      <th>FECHA DE REGISTRO</th>\n",
       "      <th>AUTORIDAD QUE EMITE EL ACTO</th>\n",
       "      <th>lat_decimal</th>\n",
       "      <th>lon_decimal</th>\n",
       "    </tr>\n",
       "  </thead>\n",
       "  <tbody>\n",
       "    <tr>\n",
       "      <th>0</th>\n",
       "      <td>811078</td>\n",
       "      <td>26</td>\n",
       "      <td>PÁNUCO</td>\n",
       "      <td>9</td>\n",
       "      <td>CIUDAD DE MÉXICO</td>\n",
       "      <td>3</td>\n",
       "      <td>COYOACÁN</td>\n",
       "      <td>550</td>\n",
       "      <td>XOCHIMILCO</td>\n",
       "      <td>450000.0</td>\n",
       "      <td>19</td>\n",
       "      <td>18</td>\n",
       "      <td>14.2096</td>\n",
       "      <td>99</td>\n",
       "      <td>9</td>\n",
       "      <td>18.0193</td>\n",
       "      <td>0.0</td>\n",
       "      <td>SIN DATO</td>\n",
       "      <td>1</td>\n",
       "      <td>901.0</td>\n",
       "      <td>ZONA METROPOLITANA DE LA CD. DE MÉXICO</td>\n",
       "      <td>SERVICIOS</td>\n",
       "      <td>TELEVISA, S.A. DE C.V.</td>\n",
       "      <td>450000.0</td>\n",
       "      <td>0</td>\n",
       "      <td>0.0</td>\n",
       "      <td>1</td>\n",
       "      <td>450000.0</td>\n",
       "      <td>0</td>\n",
       "      <td>0.0</td>\n",
       "      <td>0</td>\n",
       "      <td>0.0</td>\n",
       "      <td>2019-06-27</td>\n",
       "      <td>ORGANISMO DE CUENCA AGUAS DEL VALLE DE MEXICO</td>\n",
       "      <td>19.303947</td>\n",
       "      <td>99.155005</td>\n",
       "    </tr>\n",
       "    <tr>\n",
       "      <th>1</th>\n",
       "      <td>812118</td>\n",
       "      <td>26</td>\n",
       "      <td>PÁNUCO</td>\n",
       "      <td>9</td>\n",
       "      <td>CIUDAD DE MÉXICO</td>\n",
       "      <td>10</td>\n",
       "      <td>ÁLVARO OBREGÓN</td>\n",
       "      <td>555</td>\n",
       "      <td>CIUDAD DE MÉXICO</td>\n",
       "      <td>200000.0</td>\n",
       "      <td>19</td>\n",
       "      <td>22</td>\n",
       "      <td>48.0182</td>\n",
       "      <td>99</td>\n",
       "      <td>15</td>\n",
       "      <td>9.0144</td>\n",
       "      <td>0.0</td>\n",
       "      <td>SIN DATO</td>\n",
       "      <td>1</td>\n",
       "      <td>901.0</td>\n",
       "      <td>ZONA METROPOLITANA DE LA CD. DE MÉXICO</td>\n",
       "      <td>SERVICIOS</td>\n",
       "      <td>CAPRICHO HABITACIONAL, S.A. DE C.V.</td>\n",
       "      <td>765000.0</td>\n",
       "      <td>0</td>\n",
       "      <td>0.0</td>\n",
       "      <td>2</td>\n",
       "      <td>765000.0</td>\n",
       "      <td>0</td>\n",
       "      <td>0.0</td>\n",
       "      <td>0</td>\n",
       "      <td>0.0</td>\n",
       "      <td>2022-12-12</td>\n",
       "      <td>ORGANISMO DE CUENCA AGUAS DEL VALLE DE MEXICO</td>\n",
       "      <td>19.380005</td>\n",
       "      <td>99.252504</td>\n",
       "    </tr>\n",
       "  </tbody>\n",
       "</table>\n",
       "</div>"
      ],
      "text/plain": [
       "   TÍTULO  CLAVE DE REGIÓN HIDROLÓGICA NOMBRE DE REGIÓN HIDROLÓGICA  ESTADO  \\\n",
       "0  811078                           26                       PÁNUCO       9   \n",
       "1  812118                           26                       PÁNUCO       9   \n",
       "\n",
       "   NOMBRE DE ESTADO  CLAVE DE MUNICIPIO NOMBRE DE MUNICIPIO  \\\n",
       "0  CIUDAD DE MÉXICO                   3            COYOACÁN   \n",
       "1  CIUDAD DE MÉXICO                  10      ÁLVARO OBREGÓN   \n",
       "\n",
       "   CLAVE DE CUENCA HIDROLÓGICA NOMBRE DE CUENCA HIDROLÓGICA  \\\n",
       "0                          550                   XOCHIMILCO   \n",
       "1                          555             CIUDAD DE MÉXICO   \n",
       "\n",
       "   VOLUMEN ANUAL EN m3  GRADOS LATITUD  MINUTOS LATITUD  SEGUNDOS LATITUD  \\\n",
       "0             450000.0              19               18           14.2096   \n",
       "1             200000.0              19               22           48.0182   \n",
       "\n",
       "   GRADOS LONGITUD  MINUTOS LONGITUD  SEGUNDOS LONGITUD  \\\n",
       "0               99                 9            18.0193   \n",
       "1               99                15             9.0144   \n",
       "\n",
       "   CLAVE DE ACUÍFERO QUE MENCIONA EL TÍTULO ACUÍFERO QUE MENCIONA EL TÍTULO  \\\n",
       "0                                        0.0                        SIN DATO   \n",
       "1                                        0.0                        SIN DATO   \n",
       "\n",
       "   NÚMERO DE ANEXO  CLAVE DE ACUÍFERO HOMOLOGADO  \\\n",
       "0                1                          901.0   \n",
       "1                1                          901.0   \n",
       "\n",
       "            NOMBRE DE ACUÍFERO HOMOLOGADO USO QUE AMPARA EL TÍTULO  \\\n",
       "0  ZONA METROPOLITANA DE LA CD. DE MÉXICO                SERVICIOS   \n",
       "1  ZONA METROPOLITANA DE LA CD. DE MÉXICO                SERVICIOS   \n",
       "\n",
       "                               TITULAR  \\\n",
       "0               TELEVISA, S.A. DE C.V.   \n",
       "1  CAPRICHO HABITACIONAL, S.A. DE C.V.   \n",
       "\n",
       "   VOLUMEN DE EXTRACCIÓN ANUAL DE AGUAS NACIONALES QUE AMPARA EL TÍTULO EN m3  \\\n",
       "0                                           450000.0                            \n",
       "1                                           765000.0                            \n",
       "\n",
       "   APROVECHAMIENTOS SUPERFICIALES QUE AMPARA EL TÍTULO  \\\n",
       "0                                                  0     \n",
       "1                                                  0     \n",
       "\n",
       "   VOLUMEN DE EXTRACCIÓN ANUAL DE APROVECHAMIENTOS SUPERFICIALES EN m3  \\\n",
       "0                                                0.0                     \n",
       "1                                                0.0                     \n",
       "\n",
       "   APROVECHAMIENTOS SUBTERRÁNEOS QUE AMPARA EL TÍTULO  \\\n",
       "0                                                  1    \n",
       "1                                                  2    \n",
       "\n",
       "   VOLUMEN DE EXTRACCIÓN ANUAL DE APROVECHAMIENTOS SUBTERRÁNEOS EN m3  \\\n",
       "0                                           450000.0                    \n",
       "1                                           765000.0                    \n",
       "\n",
       "   PUNTOS DE DESCARGA QUE AMPARA EL TÍTULO  VOLUMEN DE DESCARGA DIARIO EN m3  \\\n",
       "0                                        0                               0.0   \n",
       "1                                        0                               0.0   \n",
       "\n",
       "   ZONAS FEDERALES QUE AMPARA EL TÍTULO  SUPERFICIE EN m2 FECHA DE REGISTRO  \\\n",
       "0                                     0               0.0        2019-06-27   \n",
       "1                                     0               0.0        2022-12-12   \n",
       "\n",
       "                     AUTORIDAD QUE EMITE EL ACTO  lat_decimal  lon_decimal  \n",
       "0  ORGANISMO DE CUENCA AGUAS DEL VALLE DE MEXICO    19.303947    99.155005  \n",
       "1  ORGANISMO DE CUENCA AGUAS DEL VALLE DE MEXICO    19.380005    99.252504  "
      ]
     },
     "execution_count": 13,
     "metadata": {},
     "output_type": "execute_result"
    }
   ],
   "source": [
    "df_cdmx_concesns.head(2)"
   ]
  },
  {
   "cell_type": "code",
   "execution_count": 14,
   "id": "d02d5c2d",
   "metadata": {},
   "outputs": [
    {
     "data": {
      "text/plain": [
       "array(['COYOACÁN', 'ÁLVARO OBREGÓN', 'MIGUEL HIDALGO', 'CUAUHTÉMOC',\n",
       "       'AZCAPOTZALCO', 'GUSTAVO A. MADERO', 'IZTACALCO', 'IZTAPALAPA',\n",
       "       'TLALPAN', 'BENITO JUÁREZ', 'TLÁHUAC', 'VENUSTIANO CARRANZA',\n",
       "       'XOCHIMILCO', 'MILPA ALTA', 'LA MAGDALENA CONTRERAS',\n",
       "       'CUAJIMALPA DE MORELOS'], dtype=object)"
      ]
     },
     "execution_count": 14,
     "metadata": {},
     "output_type": "execute_result"
    }
   ],
   "source": [
    "# exploring the spelling of the municipalities' names\n",
    "df_cdmx_concesns['NOMBRE DE MUNICIPIO'].unique()"
   ]
  },
  {
   "cell_type": "code",
   "execution_count": 15,
   "id": "b1423f7d",
   "metadata": {},
   "outputs": [],
   "source": [
    "# selecting most useful columns\n",
    "df_useful_cols = df_cdmx_concesns[['FECHA DE REGISTRO','lon_decimal','lat_decimal','VOLUMEN DE EXTRACCIÓN ANUAL DE APROVECHAMIENTOS SUBTERRÁNEOS EN m3','TITULAR','USO QUE AMPARA EL TÍTULO','NOMBRE DE MUNICIPIO']] "
   ]
  },
  {
   "cell_type": "code",
   "execution_count": 16,
   "id": "c107ece8",
   "metadata": {},
   "outputs": [
    {
     "data": {
      "text/html": [
       "<div>\n",
       "<style scoped>\n",
       "    .dataframe tbody tr th:only-of-type {\n",
       "        vertical-align: middle;\n",
       "    }\n",
       "\n",
       "    .dataframe tbody tr th {\n",
       "        vertical-align: top;\n",
       "    }\n",
       "\n",
       "    .dataframe thead th {\n",
       "        text-align: right;\n",
       "    }\n",
       "</style>\n",
       "<table border=\"1\" class=\"dataframe\">\n",
       "  <thead>\n",
       "    <tr style=\"text-align: right;\">\n",
       "      <th></th>\n",
       "      <th>FECHA DE REGISTRO</th>\n",
       "      <th>lon_decimal</th>\n",
       "      <th>lat_decimal</th>\n",
       "      <th>VOLUMEN DE EXTRACCIÓN ANUAL DE APROVECHAMIENTOS SUBTERRÁNEOS EN m3</th>\n",
       "      <th>TITULAR</th>\n",
       "      <th>USO QUE AMPARA EL TÍTULO</th>\n",
       "      <th>NOMBRE DE MUNICIPIO</th>\n",
       "    </tr>\n",
       "  </thead>\n",
       "  <tbody>\n",
       "    <tr>\n",
       "      <th>0</th>\n",
       "      <td>2019-06-27</td>\n",
       "      <td>99.155005</td>\n",
       "      <td>19.303947</td>\n",
       "      <td>450000.0</td>\n",
       "      <td>TELEVISA, S.A. DE C.V.</td>\n",
       "      <td>SERVICIOS</td>\n",
       "      <td>COYOACÁN</td>\n",
       "    </tr>\n",
       "    <tr>\n",
       "      <th>1</th>\n",
       "      <td>2022-12-12</td>\n",
       "      <td>99.252504</td>\n",
       "      <td>19.380005</td>\n",
       "      <td>765000.0</td>\n",
       "      <td>CAPRICHO HABITACIONAL, S.A. DE C.V.</td>\n",
       "      <td>SERVICIOS</td>\n",
       "      <td>ÁLVARO OBREGÓN</td>\n",
       "    </tr>\n",
       "  </tbody>\n",
       "</table>\n",
       "</div>"
      ],
      "text/plain": [
       "  FECHA DE REGISTRO  lon_decimal  lat_decimal  \\\n",
       "0        2019-06-27    99.155005    19.303947   \n",
       "1        2022-12-12    99.252504    19.380005   \n",
       "\n",
       "   VOLUMEN DE EXTRACCIÓN ANUAL DE APROVECHAMIENTOS SUBTERRÁNEOS EN m3  \\\n",
       "0                                           450000.0                    \n",
       "1                                           765000.0                    \n",
       "\n",
       "                               TITULAR USO QUE AMPARA EL TÍTULO  \\\n",
       "0               TELEVISA, S.A. DE C.V.                SERVICIOS   \n",
       "1  CAPRICHO HABITACIONAL, S.A. DE C.V.                SERVICIOS   \n",
       "\n",
       "  NOMBRE DE MUNICIPIO  \n",
       "0            COYOACÁN  \n",
       "1      ÁLVARO OBREGÓN  "
      ]
     },
     "execution_count": 16,
     "metadata": {},
     "output_type": "execute_result"
    }
   ],
   "source": [
    "df_useful_cols.head(2)"
   ]
  },
  {
   "cell_type": "code",
   "execution_count": 17,
   "id": "73e66a2d",
   "metadata": {},
   "outputs": [],
   "source": [
    "# changing columns' names\n",
    "df_useful_cols.columns = [\"Registration_date\", \"Longitude\", \"Latitude\",\"Annual_underground_extraction_m3\",\"Entitlement\",\"Permited_use\",\"Municipality_name\"]\n"
   ]
  },
  {
   "cell_type": "code",
   "execution_count": 18,
   "id": "0624aa05",
   "metadata": {},
   "outputs": [
    {
     "name": "stderr",
     "output_type": "stream",
     "text": [
      "/tmp/ipykernel_10779/4287188232.py:3: SettingWithCopyWarning: \n",
      "A value is trying to be set on a copy of a slice from a DataFrame.\n",
      "Try using .loc[row_indexer,col_indexer] = value instead\n",
      "\n",
      "See the caveats in the documentation: https://pandas.pydata.org/pandas-docs/stable/user_guide/indexing.html#returning-a-view-versus-a-copy\n",
      "  df_useful_cols['Longitude'] = df_useful_cols['Longitude'] * -1\n"
     ]
    }
   ],
   "source": [
    "# Longitude column is assuming degrees in west direction\n",
    "# This step transforms the column to negative values to avoid specifying the direction\n",
    "df_useful_cols['Longitude'] = df_useful_cols['Longitude'] * -1"
   ]
  },
  {
   "cell_type": "code",
   "execution_count": 19,
   "id": "c4afe95c",
   "metadata": {},
   "outputs": [
    {
     "data": {
      "text/html": [
       "<div>\n",
       "<style scoped>\n",
       "    .dataframe tbody tr th:only-of-type {\n",
       "        vertical-align: middle;\n",
       "    }\n",
       "\n",
       "    .dataframe tbody tr th {\n",
       "        vertical-align: top;\n",
       "    }\n",
       "\n",
       "    .dataframe thead th {\n",
       "        text-align: right;\n",
       "    }\n",
       "</style>\n",
       "<table border=\"1\" class=\"dataframe\">\n",
       "  <thead>\n",
       "    <tr style=\"text-align: right;\">\n",
       "      <th></th>\n",
       "      <th>Registration_date</th>\n",
       "      <th>Longitude</th>\n",
       "      <th>Latitude</th>\n",
       "      <th>Annual_underground_extraction_m3</th>\n",
       "      <th>Entitlement</th>\n",
       "      <th>Permited_use</th>\n",
       "      <th>Municipality_name</th>\n",
       "    </tr>\n",
       "  </thead>\n",
       "  <tbody>\n",
       "    <tr>\n",
       "      <th>74</th>\n",
       "      <td>1997-10-21</td>\n",
       "      <td>-99.151111</td>\n",
       "      <td>0.4475</td>\n",
       "      <td>8295.0</td>\n",
       "      <td>FERROCARRILES NACIONALES DE MEXICO</td>\n",
       "      <td>SERVICIOS</td>\n",
       "      <td>IZTACALCO</td>\n",
       "    </tr>\n",
       "    <tr>\n",
       "      <th>116</th>\n",
       "      <td>1994-12-05</td>\n",
       "      <td>-0.000000</td>\n",
       "      <td>0.0000</td>\n",
       "      <td>241.0</td>\n",
       "      <td>PHILIPS MEXICANA, S.A. DE C.V.</td>\n",
       "      <td>INDUSTRIAL</td>\n",
       "      <td>AZCAPOTZALCO</td>\n",
       "    </tr>\n",
       "  </tbody>\n",
       "</table>\n",
       "</div>"
      ],
      "text/plain": [
       "    Registration_date  Longitude  Latitude  Annual_underground_extraction_m3  \\\n",
       "74         1997-10-21 -99.151111    0.4475                            8295.0   \n",
       "116        1994-12-05  -0.000000    0.0000                             241.0   \n",
       "\n",
       "                            Entitlement Permited_use Municipality_name  \n",
       "74   FERROCARRILES NACIONALES DE MEXICO    SERVICIOS         IZTACALCO  \n",
       "116      PHILIPS MEXICANA, S.A. DE C.V.   INDUSTRIAL      AZCAPOTZALCO  "
      ]
     },
     "execution_count": 19,
     "metadata": {},
     "output_type": "execute_result"
    }
   ],
   "source": [
    "# these two errors were identified when the final csv file was the input for a map visualization using Power BI \n",
    "df_useful_cols[df_useful_cols['Latitude']<19]"
   ]
  },
  {
   "cell_type": "code",
   "execution_count": 20,
   "id": "53799573",
   "metadata": {},
   "outputs": [
    {
     "name": "stderr",
     "output_type": "stream",
     "text": [
      "/tmp/ipykernel_10779/3930155740.py:6: SettingWithCopyWarning: \n",
      "A value is trying to be set on a copy of a slice from a DataFrame\n",
      "\n",
      "See the caveats in the documentation: https://pandas.pydata.org/pandas-docs/stable/user_guide/indexing.html#returning-a-view-versus-a-copy\n",
      "  df_useful_cols['Latitude'].replace({0.4475:19.4475, 0.0000: 19.4920},inplace=True)\n"
     ]
    }
   ],
   "source": [
    "# The 'latitude' error in row number 74 is very likely to be simply missing the number \"19\" before the decimals.\n",
    "#\n",
    "# Row number 116 has no coordinates, but this well is registered at Azcapotzalco Municipality.\n",
    "# After some research, it was found information from the Economy Ministry about a Philips stablishment at 'Norte 45' street,\n",
    "# which is located in Azcapotzalco. So, the coordinates assigned are the ones from the middle point of the lenght of the street.\n",
    "df_useful_cols['Latitude'].replace({0.4475:19.4475, 0.0000: 19.4920},inplace=True)"
   ]
  },
  {
   "cell_type": "code",
   "execution_count": 21,
   "id": "959c1fb3",
   "metadata": {},
   "outputs": [
    {
     "name": "stderr",
     "output_type": "stream",
     "text": [
      "/tmp/ipykernel_10779/4128700051.py:1: SettingWithCopyWarning: \n",
      "A value is trying to be set on a copy of a slice from a DataFrame\n",
      "\n",
      "See the caveats in the documentation: https://pandas.pydata.org/pandas-docs/stable/user_guide/indexing.html#returning-a-view-versus-a-copy\n",
      "  df_useful_cols['Longitude'].replace({0.0000:-99.1600},inplace=True)\n"
     ]
    }
   ],
   "source": [
    "df_useful_cols['Longitude'].replace({0.0000:-99.1600},inplace=True)"
   ]
  },
  {
   "cell_type": "code",
   "execution_count": 22,
   "id": "d1342696",
   "metadata": {},
   "outputs": [
    {
     "name": "stderr",
     "output_type": "stream",
     "text": [
      "/tmp/ipykernel_10779/2171723593.py:1: SettingWithCopyWarning: \n",
      "A value is trying to be set on a copy of a slice from a DataFrame.\n",
      "Try using .loc[row_indexer,col_indexer] = value instead\n",
      "\n",
      "See the caveats in the documentation: https://pandas.pydata.org/pandas-docs/stable/user_guide/indexing.html#returning-a-view-versus-a-copy\n",
      "  df_useful_cols['Year'] = pd.DatetimeIndex(df_useful_cols['Registration_date']).year\n"
     ]
    }
   ],
   "source": [
    "# new column to extract the year\n",
    "df_useful_cols['Year'] = pd.DatetimeIndex(df_useful_cols['Registration_date']).year"
   ]
  },
  {
   "cell_type": "code",
   "execution_count": 23,
   "id": "1fd459dc",
   "metadata": {},
   "outputs": [
    {
     "data": {
      "text/plain": [
       "1994     21\n",
       "1995     51\n",
       "1996    611\n",
       "1997     18\n",
       "1998      5\n",
       "1999     18\n",
       "2000      2\n",
       "2001      3\n",
       "2002      1\n",
       "2003      2\n",
       "2004      5\n",
       "2005      1\n",
       "2007      3\n",
       "2008      4\n",
       "2009      4\n",
       "2010      1\n",
       "2011      2\n",
       "2012      3\n",
       "2013      4\n",
       "2017      3\n",
       "2018      4\n",
       "2019      3\n",
       "2020      1\n",
       "2021      9\n",
       "2022      9\n",
       "2023      1\n",
       "Name: Year, dtype: int64"
      ]
     },
     "execution_count": 23,
     "metadata": {},
     "output_type": "execute_result"
    }
   ],
   "source": [
    "# number of wells by year\n",
    "df_useful_cols.Year.value_counts().sort_index()"
   ]
  },
  {
   "cell_type": "code",
   "execution_count": 43,
   "id": "dbbdf0ca",
   "metadata": {},
   "outputs": [],
   "source": [
    "# exploring the data only from the water service of the city\n",
    "df_sacmex = df_useful_cols[df_useful_cols['Entitlement'] == 'SISTEMA DE AGUAS DE LA CIUDAD DE MEXICO']"
   ]
  },
  {
   "cell_type": "code",
   "execution_count": 45,
   "id": "2106542d",
   "metadata": {},
   "outputs": [
    {
     "data": {
      "text/plain": [
       "1996    550\n",
       "Name: Year, dtype: int64"
      ]
     },
     "execution_count": 45,
     "metadata": {},
     "output_type": "execute_result"
    }
   ],
   "source": [
    "# exploring number of wells from the water service of the city by year\n",
    "df_sacmex.Year.value_counts().sort_index()"
   ]
  },
  {
   "cell_type": "code",
   "execution_count": 28,
   "id": "be025bc2",
   "metadata": {},
   "outputs": [
    {
     "data": {
      "text/plain": [
       "550"
      ]
     },
     "execution_count": 28,
     "metadata": {},
     "output_type": "execute_result"
    }
   ],
   "source": [
    "# comparing number of wells by the water service of the city from the whole data of Mexico City\n",
    "df_useful_cols['Entitlement'].value_counts()['SISTEMA DE AGUAS DE LA CIUDAD DE MEXICO']"
   ]
  },
  {
   "cell_type": "code",
   "execution_count": 24,
   "id": "7900fba5",
   "metadata": {},
   "outputs": [],
   "source": [
    "# wells since 2000\n",
    "df_wells_2000 = df_useful_cols[df_useful_cols['Year']>1999]"
   ]
  },
  {
   "cell_type": "code",
   "execution_count": 25,
   "id": "3a2aba0a",
   "metadata": {},
   "outputs": [
    {
     "data": {
      "text/plain": [
       "<AxesSubplot:>"
      ]
     },
     "execution_count": 25,
     "metadata": {},
     "output_type": "execute_result"
    },
    {
     "data": {
      "image/png": "[encoded data removed]",
      "text/plain": [
       "<Figure size 640x480 with 1 Axes>"
      ]
     },
     "metadata": {},
     "output_type": "display_data"
    }
   ],
   "source": [
    "# visualization of new wells by year since 2000\n",
    "df_wells_2000.Year.value_counts().sort_index().plot()"
   ]
  },
  {
   "cell_type": "code",
   "execution_count": 26,
   "id": "e1c5b44f",
   "metadata": {},
   "outputs": [],
   "source": [
    "cdmx_pozos = df_useful_cols.copy()"
   ]
  },
  {
   "cell_type": "code",
   "execution_count": 27,
   "id": "bd2b569b",
   "metadata": {},
   "outputs": [],
   "source": [
    "# erase \"#\" in the line below to export as csv file\n",
    "\n",
    "import os  \n",
    "#cdmx_pozos.to_csv('cdmx_pozos.csv')"
   ]
  },
  {
   "cell_type": "code",
   "execution_count": null,
   "id": "40667901",
   "metadata": {},
   "outputs": [],
   "source": []
  }
 ],
 "metadata": {
  "kernelspec": {
   "display_name": "Python 3 (ipykernel)",
   "language": "python",
   "name": "python3"
  },
  "language_info": {
   "codemirror_mode": {
    "name": "ipython",
    "version": 3
   },
   "file_extension": ".py",
   "mimetype": "text/x-python",
   "name": "python",
   "nbconvert_exporter": "python",
   "pygments_lexer": "ipython3",
   "version": "3.10.6"
  },
  "toc": {
   "base_numbering": 1,
   "nav_menu": {},
   "number_sections": true,
   "sideBar": true,
   "skip_h1_title": false,
   "title_cell": "Table of Contents",
   "title_sidebar": "Contents",
   "toc_cell": false,
   "toc_position": {},
   "toc_section_display": true,
   "toc_window_display": false
  }
 },
 "nbformat": 4,
 "nbformat_minor": 5
}
